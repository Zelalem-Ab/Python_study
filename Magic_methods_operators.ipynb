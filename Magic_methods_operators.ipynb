{
 "cells": [
  {
   "cell_type": "markdown",
   "metadata": {},
   "source": [
    "# Magic Methods and Operator Overloading\n",
    "\n",
    "source: https://www.python-course.eu/python3_magic_methods.php\n",
    "    \n",
    "    "
   ]
  },
  {
   "cell_type": "raw",
   "metadata": {},
   "source": [
    "It's even possible to overload the \"+\" operator as well as all the other operators for the purposes of your own class. To do this, you need to understand the underlying mechanism. There is a special (or a \"magic\") method for every operator sign. The magic method for the \"+\" sign is the __add__ method. For \"-\" it is \"__sub__\" and so on. We have a complete listing of all the magic methods a little bit further down. \n",
    "\n",
    "The mechanism works like this: If we have an expression \"x + y\" and x is an instance of class K, then Python will check the class definition of K. If K has a method __add__ it will be called with x.__add__(y), otherwise we will get an error message. "
   ]
  },
  {
   "cell_type": "code",
   "execution_count": 1,
   "metadata": {},
   "outputs": [
    {
     "name": "stdout",
     "output_type": "stream",
     "text": [
      "4\n",
      "Length(5.593613298337708, 'yd')\n",
      "5.1148\n"
     ]
    }
   ],
   "source": [
    "class Length:\n",
    "\n",
    "    __metric = {\"mm\" : 0.001, \"cm\" : 0.01, \"m\" : 1, \"km\" : 1000,\n",
    "                \"in\" : 0.0254, \"ft\" : 0.3048, \"yd\" : 0.9144,\n",
    "                \"mi\" : 1609.344 }\n",
    "    \n",
    "    def __init__(self, value, unit = \"m\" ):\n",
    "        self.value = value\n",
    "        self.unit = unit\n",
    "    \n",
    "    def Converse2Metres(self):\n",
    "        return self.value * Length.__metric[self.unit]\n",
    "    \n",
    "    def __add__(self, other):\n",
    "        l = self.Converse2Metres() + other.Converse2Metres()\n",
    "        return Length(l / Length.__metric[self.unit], self.unit )\n",
    "    \n",
    "    def __str__(self):\n",
    "        return str(self.Converse2Metres())\n",
    "    \n",
    "    def __repr__(self):\n",
    "        return \"Length(\" + str(self.value) + \", '\" + self.unit + \"')\"\n",
    "\n",
    "if __name__ == \"__main__\":\n",
    "    x = Length(4)\n",
    "    print(x)\n",
    "    y = eval(repr(x))\n",
    "\n",
    "    z = Length(4.5, \"yd\") + Length(1)\n",
    "    print(repr(z))\n",
    "    print(z)\n",
    "    "
   ]
  },
  {
   "cell_type": "code",
   "execution_count": 21,
   "metadata": {},
   "outputs": [
    {
     "name": "stdout",
     "output_type": "stream",
     "text": [
      "Length(1.1, 'm')\n",
      "1.1\n"
     ]
    }
   ],
   "source": [
    "z = Length(1, \"m\") + Length(0, \"yd\") + Length(100, \"mm\")\n",
    "print(repr(z))\n",
    "print(z)"
   ]
  },
  {
   "cell_type": "code",
   "execution_count": 19,
   "metadata": {},
   "outputs": [
    {
     "name": "stdout",
     "output_type": "stream",
     "text": [
      "Length(1.0936, 'yd')\n",
      "0.9999878399999999\n"
     ]
    }
   ],
   "source": [
    "z = Length(1.0936, \"yd\") + Length(0, \"m\")\n",
    "print(repr(z))\n",
    "print(z)"
   ]
  },
  {
   "cell_type": "code",
   "execution_count": null,
   "metadata": {},
   "outputs": [],
   "source": []
  }
 ],
 "metadata": {
  "kernelspec": {
   "display_name": "Python 3",
   "language": "python",
   "name": "python3"
  },
  "language_info": {
   "codemirror_mode": {
    "name": "ipython",
    "version": 3
   },
   "file_extension": ".py",
   "mimetype": "text/x-python",
   "name": "python",
   "nbconvert_exporter": "python",
   "pygments_lexer": "ipython3",
   "version": "3.7.0"
  }
 },
 "nbformat": 4,
 "nbformat_minor": 2
}
