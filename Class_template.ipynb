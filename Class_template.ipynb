{
 "cells": [
  {
   "cell_type": "markdown",
   "metadata": {},
   "source": [
    "A basic class format of Python 3.\n",
    "\n",
    "Source:\n",
    "https://www.python-course.eu/python3_object_oriented_programming.php\n",
    "\n",
    "Types of attributes\n",
    "\n",
    "name --- Public --> These attributes can be freely used inside or outside of a class definition.\n",
    "\n",
    "_name --- Protected ---> Protected attributes should not be used outside of the class definition, unless inside of a subclass definition.\n",
    "\n",
    "__name --- Private ---> This kind of attribute is inaccessible and invisible. It's neither possible to read nor write to those attributes, except inside of the class definition itself.\n",
    "\n",
    "-> class attributes\n",
    "\n",
    "-> Instance attributes\n"
   ]
  },
  {
   "cell_type": "code",
   "execution_count": 134,
   "metadata": {},
   "outputs": [],
   "source": [
    "class Robot:\n",
    "    \"\"\" This is the documentation of class Robot, this would be found in the __doc__ attribute of the class dict (Robot.__dict__)\"\"\"\n",
    "    \n",
    "    # Isaac Asimov devised and introduced the so-called \"Three Laws of Robotics\" in 1942.\n",
    "    # class methods\n",
    "    Three_Laws = (\n",
    "                    \"\"\"A robot may not injure a human being or, through inaction, allow a human being to come to harm.\"\"\",\n",
    "                    \"\"\"A robot must obey the orders given to it by human beings, except where such orders would conflict with the First Law.,\"\"\",\n",
    "                    \"\"\"A robot must protect its own existence as long as such protection does not conflict with the First or Second Law.\"\"\"\n",
    "                  )\n",
    "    \n",
    "    # Class attribute (private attribute) - can be accessed as Robot.num_robots or inst_name.num_robots\n",
    "    # Assigning value to class attribute is always done via Robot.num_robots inorder avoid creation of new object attributes with the same name\n",
    "    __num_robots = 0\n",
    "    \n",
    "    # This __init__ method run every time object is created - like a constructor\n",
    "    def __init__(self, name = None, build_year = None):\n",
    "        self.name = name\n",
    "        self.build_year = build_year\n",
    "        \n",
    "        # Types of attributes: private, protected and public repectively\n",
    "        self.__priv = \"I am private\"\n",
    "        self._prot = \"I am protected\"\n",
    "        self.pub = \"I am public\"\n",
    "        \n",
    "        type(self).__num_robots += 1  # Robots.__num_robots += 1 - type(self) method makes sense, if we use such a class as a superclass.  \n",
    "    \n",
    "    # displayes string that represents the attribute values using the class name and format    \n",
    "    def __repr__(self):\n",
    "        return \"Robot('\" + self.name + \"', \" +  str(self.build_year) +  \")\"\n",
    "    \n",
    "    # str(instance_name) - displays the attribute names and values\n",
    "    def __str__(self):\n",
    "        return \"Name: \" + self.name + \", Build Year: \" +  str(self.build_year)\n",
    "    \n",
    "    # instance distructor --- syntax --> del x\n",
    "    def __del__(self):\n",
    "        type(self).__num_robots -= 1   # Robots.num_robots += 1\n",
    "        print(\"Robot instance has been destroyed\")\n",
    "    \n",
    "    # static method - method that does not need instance reference\n",
    "    # i.e. the method can be called using the class as well as instance names.\n",
    "    @staticmethod   # this is the decorator syntax\n",
    "    def RobotInstances():\n",
    "        return Robot.__num_robots\n",
    "    \n",
    "    # Class methods - not bound to instances, but unlike static methods class methods are bound to a class. \n",
    "    # The first parameter of a class method is a reference to a class, i.e. a class object.    \n",
    "    @classmethod\n",
    "    def RobotInstances2(cls):\n",
    "        return cls, Robot.__num_robots\n",
    "    \n",
    "    def say_hi(self):\n",
    "        if self.name:\n",
    "            print(\"Hi, I am \" + self.name)\n",
    "        else:\n",
    "            print(\"Hi, I am a robot without a name\")\n",
    "            \n",
    "    def disp_rule(self):\n",
    "        for number, text in enumerate(Robot.Three_Laws):\n",
    "            print(str(number+1) + \":\\n\" + text) \n",
    "            \n",
    "    #Getter and setter methods\n",
    "    def set_name(self, name):\n",
    "        self.name = name\n",
    "        \n",
    "    def get_name(self):\n",
    "        return self.name    \n",
    "\n",
    "    def set_build_year(self, by):\n",
    "        self.build_year = by\n",
    "        \n",
    "    def get_build_year(self):\n",
    "        return self.build_year\n",
    "    \n",
    "    def set_priv(self, prv=None):\n",
    "        self.__priv = prv"
   ]
  },
  {
   "cell_type": "code",
   "execution_count": 135,
   "metadata": {},
   "outputs": [
    {
     "data": {
      "text/plain": [
       "mappingproxy({'__module__': '__main__',\n",
       "              '__doc__': ' This is the documentation of class Robot, this would be found in the __doc__ attribute of the class dict (Robot.__dict__)',\n",
       "              'Three_Laws': ('A robot may not injure a human being or, through inaction, allow a human being to come to harm.',\n",
       "               'A robot must obey the orders given to it by human beings, except where such orders would conflict with the First Law.,',\n",
       "               'A robot must protect its own existence as long as such protection does not conflict with the First or Second Law.'),\n",
       "              '_Robot__num_robots': 0,\n",
       "              '__init__': <function __main__.Robot.__init__(self, name=None, build_year=None)>,\n",
       "              '__repr__': <function __main__.Robot.__repr__(self)>,\n",
       "              '__str__': <function __main__.Robot.__str__(self)>,\n",
       "              '__del__': <function __main__.Robot.__del__(self)>,\n",
       "              'RobotInstances': <staticmethod at 0x66a6970da0>,\n",
       "              'RobotInstances2': <classmethod at 0x66a6970e10>,\n",
       "              'say_hi': <function __main__.Robot.say_hi(self)>,\n",
       "              'disp_rule': <function __main__.Robot.disp_rule(self)>,\n",
       "              'set_name': <function __main__.Robot.set_name(self, name)>,\n",
       "              'get_name': <function __main__.Robot.get_name(self)>,\n",
       "              'set_build_year': <function __main__.Robot.set_build_year(self, by)>,\n",
       "              'get_build_year': <function __main__.Robot.get_build_year(self)>,\n",
       "              'set_priv': <function __main__.Robot.set_priv(self, prv=None)>,\n",
       "              '__dict__': <attribute '__dict__' of 'Robot' objects>,\n",
       "              '__weakref__': <attribute '__weakref__' of 'Robot' objects>})"
      ]
     },
     "execution_count": 135,
     "metadata": {},
     "output_type": "execute_result"
    }
   ],
   "source": [
    "Robot.__dict__"
   ]
  },
  {
   "cell_type": "code",
   "execution_count": 136,
   "metadata": {},
   "outputs": [
    {
     "name": "stdout",
     "output_type": "stream",
     "text": [
      "Robot instance has been destroyed\n"
     ]
    }
   ],
   "source": [
    "x = Robot(\"Henry\", 2009)"
   ]
  },
  {
   "cell_type": "code",
   "execution_count": 137,
   "metadata": {},
   "outputs": [
    {
     "data": {
      "text/plain": [
       "{'name': 'Henry',\n",
       " 'build_year': 2009,\n",
       " '_Robot__priv': 'I am private',\n",
       " '_prot': 'I am protected',\n",
       " 'pub': 'I am public'}"
      ]
     },
     "execution_count": 137,
     "metadata": {},
     "output_type": "execute_result"
    }
   ],
   "source": [
    "x.__dict__"
   ]
  },
  {
   "cell_type": "markdown",
   "metadata": {},
   "source": [
    "Here the instance parameter displays the instance format with the inputs and the class name -  __repr__"
   ]
  },
  {
   "cell_type": "code",
   "execution_count": 30,
   "metadata": {},
   "outputs": [
    {
     "data": {
      "text/plain": [
       "{'name': None,\n",
       " 'build_year': None,\n",
       " '_Robot__priv': 'I am private',\n",
       " '_prot': 'I am protected',\n",
       " 'pub': 'I am public',\n",
       " 'num_robots': 1}"
      ]
     },
     "execution_count": 30,
     "metadata": {},
     "output_type": "execute_result"
    }
   ],
   "source": [
    "y.__dict__"
   ]
  },
  {
   "cell_type": "markdown",
   "metadata": {},
   "source": [
    "The string function in the class displays the attributes and the values"
   ]
  },
  {
   "cell_type": "code",
   "execution_count": 23,
   "metadata": {},
   "outputs": [
    {
     "data": {
      "text/plain": [
       "'Name: Henry, Build Year: 2008'"
      ]
     },
     "execution_count": 23,
     "metadata": {},
     "output_type": "execute_result"
    }
   ],
   "source": [
    "str(x)"
   ]
  },
  {
   "cell_type": "code",
   "execution_count": 47,
   "metadata": {},
   "outputs": [
    {
     "data": {
      "text/plain": [
       "{'name': 'Henry',\n",
       " 'build_year': 2008,\n",
       " '_Robot__priv': 'heyyyy',\n",
       " '_prot': 'I am protected',\n",
       " 'pub': 'I am public'}"
      ]
     },
     "execution_count": 47,
     "metadata": {},
     "output_type": "execute_result"
    }
   ],
   "source": [
    "x.__dict__"
   ]
  },
  {
   "cell_type": "code",
   "execution_count": 44,
   "metadata": {},
   "outputs": [],
   "source": [
    "x.set_priv('heyyyy')"
   ]
  },
  {
   "cell_type": "markdown",
   "metadata": {},
   "source": [
    "Types of attributes\n",
    "\n",
    "name --- Public -->\n",
    "These attributes can be freely used inside or outside of a class definition.\n",
    "\n",
    "_name --- Protected --->\n",
    "Protected attributes should not be used outside of the class definition, unless inside of a subclass definition.\n",
    "\n",
    "__name --- Private --->\n",
    "This kind of attribute is inaccessible and invisible. It's neither possible to read nor write to those attributes, except inside of the class definition itself."
   ]
  },
  {
   "cell_type": "code",
   "execution_count": 21,
   "metadata": {},
   "outputs": [
    {
     "name": "stdout",
     "output_type": "stream",
     "text": [
      "Robot has been destroyed\n"
     ]
    }
   ],
   "source": [
    "y = Robot(\"Hy\", 208)"
   ]
  },
  {
   "cell_type": "code",
   "execution_count": 22,
   "metadata": {},
   "outputs": [
    {
     "data": {
      "text/plain": [
       "Robot('Hy', 208)"
      ]
     },
     "execution_count": 22,
     "metadata": {},
     "output_type": "execute_result"
    }
   ],
   "source": [
    "y"
   ]
  },
  {
   "cell_type": "code",
   "execution_count": 31,
   "metadata": {},
   "outputs": [
    {
     "data": {
      "text/plain": [
       "{'name': None,\n",
       " 'build_year': None,\n",
       " '_Robot__priv': 'I am private',\n",
       " '_prot': 'I am protected',\n",
       " 'pub': 'I am public',\n",
       " 'num_robots': 1}"
      ]
     },
     "execution_count": 31,
     "metadata": {},
     "output_type": "execute_result"
    }
   ],
   "source": [
    "y.__dict__"
   ]
  },
  {
   "cell_type": "code",
   "execution_count": 72,
   "metadata": {},
   "outputs": [
    {
     "name": "stdout",
     "output_type": "stream",
     "text": [
      "1:\n",
      "A robot may not injure a human being or, through inaction, allow a human being to come to harm.\n",
      "2:\n",
      "A robot must obey the orders given to it by human beings, except where such orders would conflict with the First Law.,\n",
      "3:\n",
      "A robot must protect its own existence as long as such protection does not conflict with the First or Second Law.\n"
     ]
    }
   ],
   "source": [
    "x.disp_rule()"
   ]
  },
  {
   "cell_type": "code",
   "execution_count": 81,
   "metadata": {},
   "outputs": [
    {
     "data": {
      "text/plain": [
       "'__main__'"
      ]
     },
     "execution_count": 81,
     "metadata": {},
     "output_type": "execute_result"
    }
   ],
   "source": [
    "__name__"
   ]
  },
  {
   "cell_type": "code",
   "execution_count": 104,
   "metadata": {
    "scrolled": true
   },
   "outputs": [
    {
     "data": {
      "text/plain": [
       "1"
      ]
     },
     "execution_count": 104,
     "metadata": {},
     "output_type": "execute_result"
    }
   ],
   "source": [
    "Robot.num_robots"
   ]
  },
  {
   "cell_type": "code",
   "execution_count": 139,
   "metadata": {
    "scrolled": true
   },
   "outputs": [
    {
     "name": "stdout",
     "output_type": "stream",
     "text": [
      "Robot instance has been destroyed\n"
     ]
    }
   ],
   "source": [
    "y = Robot(\"hegft\", 2018)"
   ]
  },
  {
   "cell_type": "code",
   "execution_count": 101,
   "metadata": {},
   "outputs": [
    {
     "name": "stdout",
     "output_type": "stream",
     "text": [
      "Robot instance has been destroyed\n"
     ]
    }
   ],
   "source": [
    "del x"
   ]
  },
  {
   "cell_type": "code",
   "execution_count": 143,
   "metadata": {},
   "outputs": [
    {
     "data": {
      "text/plain": [
       "(__main__.Robot, 2)"
      ]
     },
     "execution_count": 143,
     "metadata": {},
     "output_type": "execute_result"
    }
   ],
   "source": [
    "y.RobotInstances2()"
   ]
  },
  {
   "cell_type": "markdown",
   "metadata": {},
   "source": [
    "Polymorphism \n",
    "\n",
    "Polymorphism is an ability (in OOP) to use common interface for multiple form (data types).\n",
    "\n",
    "Suppose, we need to color a shape, there are multiple shape option (rectangle, square, circle). However we could use same method to color any shape. This concept is called Polymorphism.\n",
    "\n",
    "In the below program, we defined two classes Parrot and Penguin. Each of them have common method fly() method. However, their functions are different. To allow polymorphism, we created common interface i.e flying_test() function that can take any object. Then, we passed the objects blu and peggy in the flying_test() function, it ran effectively."
   ]
  },
  {
   "cell_type": "code",
   "execution_count": 1,
   "metadata": {},
   "outputs": [
    {
     "name": "stdout",
     "output_type": "stream",
     "text": [
      "Parrot can fly\n",
      "Penguin can't fly\n",
      "Parrot can't swim\n",
      "Penguin can swim\n"
     ]
    }
   ],
   "source": [
    "class Parrot:\n",
    "\n",
    "    def fly(self):\n",
    "        print(\"Parrot can fly\")\n",
    "    \n",
    "    def swim(self):\n",
    "        print(\"Parrot can't swim\")\n",
    "\n",
    "class Penguin:\n",
    "\n",
    "    def fly(self):\n",
    "        print(\"Penguin can't fly\")\n",
    "    \n",
    "    def swim(self):\n",
    "        print(\"Penguin can swim\")\n",
    "\n",
    "# common interface\n",
    "def flying_test(bird):\n",
    "    bird.fly()\n",
    "    \n",
    "# common interface\n",
    "def swim_test(bird):\n",
    "    bird.swim()\n",
    "\n",
    "#instantiate objects\n",
    "blu = Parrot()\n",
    "peggy = Penguin()\n",
    "\n",
    "# passing the object\n",
    "flying_test(blu)\n",
    "flying_test(peggy)\n",
    "\n",
    "swim_test(blu)\n",
    "swim_test(peggy)"
   ]
  },
  {
   "cell_type": "markdown",
   "metadata": {},
   "source": [
    "Inheritance\n",
    "\n",
    "Classes can inherit from other classes. A class can inherit attributes and behaviour methods from another class, called the superclass. A class which inherits from a superclass is called a subclass, also called heir class or child class. Superclasses are sometimes called ancestors as well.\n",
    "\n",
    "Overriding:\n",
    "\n",
    "Method overriding is an object-oriented programming feature that allows a subclass to provide a different implementation of a method that is already defined by its superclass or by one of its superclasses. The implementation in the subclass overrides the implementation of the superclass by providing a method with the same name, same parameters or signature, and same return type as the method of the parent class.\n",
    "\n",
    "Overloading:\n",
    "\n",
    "Overloading is the ability to define the same method, with the same name but with a different number of arguments and types. It's the ability of one function to perform different tasks, depending on the number of parameters or the types of the parameters.\n",
    "\n",
    "\n"
   ]
  },
  {
   "cell_type": "code",
   "execution_count": 26,
   "metadata": {},
   "outputs": [
    {
     "name": "stdout",
     "output_type": "stream",
     "text": [
      "Marge Simpson\n",
      "Homer Simpson, Emp Number 1007\n"
     ]
    }
   ],
   "source": [
    "class Person:\n",
    "\n",
    "    def __init__(self, first, last):\n",
    "        self._firstname = first\n",
    "        self._lastname = last  \n",
    "        self.__lastname = last \n",
    "\n",
    "    def __str__(self):\n",
    "        return self._firstname + \" \" + self.__lastname\n",
    "\n",
    "class Employee(Person):\n",
    "\n",
    "    def __init__(self, first, last, staffnum):\n",
    "        super().__init__(first, last)    # Python 2 compatable - super(Employee, self).__init__(first, last, age)\n",
    "        # Person.__init__(self, first, last)  # This works as well\n",
    "        self.staffnumber = staffnum\n",
    "        \n",
    "    def __str__(self):   # this method overides the method with the same name in the parent class\n",
    "        return self._firstname + \" \" + self._lastname + \", Emp Number \" + self.staffnumber\n",
    "        # Better way\n",
    "        #return super().__str__() + \", \" +  self.staffnumber\n",
    "\n",
    "\n",
    "x = Person(\"Marge\", \"Simpson\")\n",
    "y = Employee(\"Homer\", \"Simpson\", \"1007\")\n",
    "\n",
    "print(x)\n",
    "print(y)"
   ]
  },
  {
   "cell_type": "code",
   "execution_count": 17,
   "metadata": {},
   "outputs": [],
   "source": [
    "def f(*x):\n",
    "    if len(x) == 1:\n",
    "        return x[0] + 42\n",
    "    else: \n",
    "        return x[0] + x[1] + 42\n",
    "    \n",
    "# this does not work\n",
    "\"\"\"\n",
    ">>> def f(n):\n",
    "...     return n + 42\n",
    "... \n",
    ">>> def f(n,m):\n",
    "...     return n + m + 42\n",
    "\"\"\""
   ]
  },
  {
   "cell_type": "code",
   "execution_count": 27,
   "metadata": {},
   "outputs": [],
   "source": [
    "class A:\n",
    "    def m(self):\n",
    "        print(\"m of A called\")\n",
    "\n",
    "class B(A):\n",
    "    def m(self):\n",
    "        print(\"m of B called\")\n",
    "    \n",
    "class C(A):\n",
    "    def m(self):\n",
    "        print(\"m of C called\")\n",
    "\n",
    "class D(B,C):\n",
    "    pass"
   ]
  },
  {
   "cell_type": "code",
   "execution_count": 28,
   "metadata": {},
   "outputs": [],
   "source": [
    "kk = D()"
   ]
  },
  {
   "cell_type": "code",
   "execution_count": 29,
   "metadata": {},
   "outputs": [
    {
     "name": "stdout",
     "output_type": "stream",
     "text": [
      "m of B called\n"
     ]
    }
   ],
   "source": [
    "kk.m()"
   ]
  },
  {
   "cell_type": "code",
   "execution_count": 30,
   "metadata": {},
   "outputs": [],
   "source": [
    "kb = B()"
   ]
  },
  {
   "cell_type": "code",
   "execution_count": 31,
   "metadata": {},
   "outputs": [
    {
     "name": "stdout",
     "output_type": "stream",
     "text": [
      "m of B called\n"
     ]
    }
   ],
   "source": [
    "kb.m()"
   ]
  },
  {
   "cell_type": "code",
   "execution_count": 32,
   "metadata": {},
   "outputs": [],
   "source": [
    "kc = C()"
   ]
  },
  {
   "cell_type": "code",
   "execution_count": 33,
   "metadata": {},
   "outputs": [
    {
     "name": "stdout",
     "output_type": "stream",
     "text": [
      "m of C called\n"
     ]
    }
   ],
   "source": [
    "kc.m()"
   ]
  },
  {
   "cell_type": "code",
   "execution_count": null,
   "metadata": {},
   "outputs": [],
   "source": []
  }
 ],
 "metadata": {
  "kernelspec": {
   "display_name": "Python 3",
   "language": "python",
   "name": "python3"
  },
  "language_info": {
   "codemirror_mode": {
    "name": "ipython",
    "version": 3
   },
   "file_extension": ".py",
   "mimetype": "text/x-python",
   "name": "python",
   "nbconvert_exporter": "python",
   "pygments_lexer": "ipython3",
   "version": "3.7.0"
  }
 },
 "nbformat": 4,
 "nbformat_minor": 2
}
